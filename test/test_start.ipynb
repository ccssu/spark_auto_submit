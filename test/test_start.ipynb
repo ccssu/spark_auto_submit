{
 "cells": [
  {
   "cell_type": "code",
   "execution_count": null,
   "metadata": {},
   "outputs": [],
   "source": [
    "\n",
    "from spark_auto_submit_sdk.sdk import SparkAutoSubmitSDK\n",
    "\n",
    "# # 创建 SparkAutoSubmitSDK 实例\n",
    "config_file = '/workspace/DEMO/development_local.yaml'\n",
    "sdk = SparkAutoSubmitSDK(config_file)"
   ]
  },
  {
   "cell_type": "code",
   "execution_count": null,
   "metadata": {},
   "outputs": [],
   "source": [
    "# 创建提交参数，指定应用程序名称、主文件和参数\n",
    "app_name = \"MySparkApp\"\n",
    "main_file = \"/workspace/DEMO/pyspark-corpus-pipeline-demo/application.py\"\n",
    "# application.py --idf_path=./data/idf.txt --idx_path=./data/idx.txt --model_path=./data/model --raw_path=./data/sample_toutiao_cat_data.txt --char_emb_path=./data/char_emb.txt --result_path=result.txt\n",
    "args = [{\"--idf_path\":\"/workspace/DEMO/pyspark-corpus-pipeline-demo/data/idf.txt\"},\n",
    "        {\"--idx_path\":\"/workspace/DEMO/pyspark-corpus-pipeline-demo/data/idx.txt\"},\n",
    "        {\"--model_path\":\"/workspace/DEMO/pyspark-corpus-pipeline-demo/data/model\"},\n",
    "        {\"--raw_path\":\"/workspace/DEMO/pyspark-corpus-pipeline-demo/data/sample_toutiao_cat_data.txt\"},\n",
    "        {\"--char_emb_path\":\"/workspace/DEMO/pyspark-corpus-pipeline-demo/data/char_emb.txt\"},\n",
    "        {\"--result_path\":\"result.txt\"}\n",
    "        ]\n",
    "# TODO(fengwen) 修复：args 传入参数时， --args 不能省略 , 如果只是 --no-save 没有后面的参数\n",
    "submission_params = sdk.create_submission_parameters(app_name, main_file, args)"
   ]
  },
  {
   "cell_type": "code",
   "execution_count": null,
   "metadata": {},
   "outputs": [],
   "source": [
    "# sdk.submit_application(submission_params)\n",
    "print(\"submission_params: \", submission_params.to_spark_submit_command())"
   ]
  },
  {
   "cell_type": "code",
   "execution_count": null,
   "metadata": {},
   "outputs": [],
   "source": [
    "sdk.submit_application(submission_params)"
   ]
  }
 ],
 "metadata": {
  "kernelspec": {
   "display_name": "spark_tool",
   "language": "python",
   "name": "python3"
  },
  "language_info": {
   "codemirror_mode": {
    "name": "ipython",
    "version": 3
   },
   "file_extension": ".py",
   "mimetype": "text/x-python",
   "name": "python",
   "nbconvert_exporter": "python",
   "pygments_lexer": "ipython3",
   "version": "3.8.16"
  },
  "orig_nbformat": 4
 },
 "nbformat": 4,
 "nbformat_minor": 2
}
